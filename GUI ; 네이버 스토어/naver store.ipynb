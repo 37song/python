{
 "cells": [
  {
   "cell_type": "code",
   "execution_count": 59,
   "metadata": {},
   "outputs": [
    {
     "data": {
      "text/plain": [
       "{'identifier': '2'}"
      ]
     },
     "execution_count": 59,
     "metadata": {},
     "output_type": "execute_result"
    }
   ],
   "source": [
    "# 쿠팡 크롤링시 기본 템플릿\n",
    "import os\n",
    "import urllib3\n",
    "from selenium import webdriver\n",
    "from selenium.webdriver.chrome.service import Service\n",
    "from selenium.webdriver.common.by import By\n",
    "from selenium.webdriver.common.keys import Keys\n",
    "from selenium.webdriver.chrome.options import Options\n",
    "from selenium.webdriver.support.ui import WebDriverWait\n",
    "from selenium.webdriver.support import expected_conditions as EC\n",
    "from selenium.common.exceptions import NoSuchElementException, TimeoutException, ElementNotInteractableException\n",
    "import pandas as pd\n",
    "import time\n",
    "from webdriver_manager.chrome import ChromeDriverManager\n",
    "import requests\n",
    "from bs4 import BeautifulSoup\n",
    "\n",
    "os.environ[\"WDM_SSL_VERIFY\"] = \"0\"\n",
    "\n",
    "#InsecureRequestWarning 비활성화\n",
    "urllib3.disable_warnings(urllib3.exceptions.InsecureRequestWarning)\n",
    "\n",
    "# 크롬 옵션 설정\n",
    "chrome_options = Options()\n",
    "chrome_options.add_argument(\"--disable-blink-features=AutomationControlled\")\n",
    "chrome_options.add_experimental_option(\"excludeSwitches\", [\"enable-automation\"])\n",
    "chrome_options.add_experimental_option(\"useAutomationExtension\", False)\n",
    "chrome_options.add_argument(\"--disable-gpu\")\n",
    "chrome_options.add_argument(\"--disable-popup-blocking\")\n",
    "chrome_options.add_argument(\"--start-maximized\")\n",
    "chrome_options.add_argument(\"user-agent=Mozilla/5.0 (Windows NT 10.0; Win64; x64) AppleWebKit/537.36 (KHTML, like Gecko) Chrome/114.0.5735.110 Safari/537.36\")\n",
    "\n",
    "# webdriver-manager로 ChromeDriver 자동 설치 및 초기화\n",
    "driver = webdriver.Chrome(service=Service(ChromeDriverManager().install()),options = chrome_options)\n",
    "\n",
    "# Selenium 감지 속성 제거\n",
    "driver.execute_cdp_cmd(\n",
    "    \"Page.addScriptToEvaluateOnNewDocument\",\n",
    "    {\n",
    "        \"source\": \"\"\"\n",
    "        Object.defineProperty(navigator, 'webdriver', {\n",
    "          get: () => undefined\n",
    "        })\n",
    "        \"\"\"\n",
    "    }\n",
    ")"
   ]
  },
  {
   "cell_type": "code",
   "execution_count": 58,
   "metadata": {},
   "outputs": [],
   "source": [
    "driver = webdriver.Chrome(service=Service(ChromeDriverManager().install()),options = chrome_options)\n",
    "driver.implicitly_wait(5)"
   ]
  },
  {
   "cell_type": "code",
   "execution_count": null,
   "metadata": {},
   "outputs": [],
   "source": [
    "'''\n",
    "# url 구성하는 요소\n",
    "keyword = input('키워드')\n",
    "official = '&mallTypes=OFFICIAL_CERTIFIED' # 네이버 공식인증\n",
    "free = '&recommendedDeliveries=FREE_DELIVERY'  # 무료 배송\n",
    "include = '&includedDeliveryFee=true'  # 배송비 포함\n",
    "rating = '&score=4.8%7C5'  # ★ 4.8 이상\n",
    "sort = input('정렬')\n",
    "minPrice = input('최저 가격')  # 최저 가격\n",
    "maxPrice = input('최고 가격')  # 최고 가격\n",
    "priceRange = f'&priceRange={minPrice}%7C{maxPrice}'\n",
    "url = f'https://search.shopping.naver.com/ns/search?query={keyword}{official}{free}{include}{rating}&sort={sort}{priceRange}'\n",
    "'''\n",
    "\n",
    "url = 'https://search.shopping.naver.com/ns/search?query=%EB%8B%AD%EA%B0%80%EC%8A%B4%EC%82%B4&includedDeliveryFee=true&recommendedDeliveries=FREE_DELIVERY'\n",
    "driver.get(url)\n",
    "driver.implicitly_wait(5)"
   ]
  },
  {
   "cell_type": "code",
   "execution_count": null,
   "metadata": {},
   "outputs": [],
   "source": []
  },
  {
   "cell_type": "code",
   "execution_count": null,
   "metadata": {},
   "outputs": [],
   "source": []
  },
  {
   "cell_type": "code",
   "execution_count": null,
   "metadata": {},
   "outputs": [],
   "source": [
    "from selenium import webdriver\n",
    "from selenium.webdriver.common.by import By\n",
    "from selenium.webdriver.support.ui import WebDriverWait\n",
    "from selenium.webdriver.support import expected_conditions as EC\n",
    "from selenium.webdriver.chrome.service import Service\n",
    "from webdriver_manager.chrome import ChromeDriverManager\n",
    "import time\n",
    "\n",
    "# 크롬 옵션 설정\n",
    "chrome_options = Options()\n",
    "chrome_options.add_argument(\"--disable-blink-features=AutomationControlled\")\n",
    "chrome_options.add_experimental_option(\"excludeSwitches\", [\"enable-automation\"])\n",
    "chrome_options.add_experimental_option(\"useAutomationExtension\", False)\n",
    "chrome_options.add_argument(\"--disable-gpu\")\n",
    "chrome_options.add_argument(\"--disable-popup-blocking\")\n",
    "chrome_options.add_argument(\"--start-maximized\")\n",
    "chrome_options.add_argument(\"user-agent=Mozilla/5.0 (Windows NT 10.0; Win64; x64) AppleWebKit/537.36 (KHTML, like Gecko) Chrome/114.0.5735.110 Safari/537.36\")\n",
    "\n",
    "driver = webdriver.Chrome(service=Service(ChromeDriverManager().install()),options = chrome_options)\n",
    "url = 'https://search.shopping.naver.com/ns/search?query=%EB%8B%AD%EA%B0%80%EC%8A%B4%EC%82%B4&includedDeliveryFee=true&recommendedDeliveries=FREE_DELIVERY'\n",
    "driver.get(url)\n",
    "wait = WebDriverWait(driver, 10)\n",
    "\n",
    "count = int(input('몇 개? '))\n",
    "result = []\n",
    "\n",
    "while len(result) < count:\n",
    "    driver.execute_script(\"window.scrollTo(0, document.body.scrollHeight);\")\n",
    "    time.sleep(3)  # 페이지 로드를 기다림\n",
    "    divs = driver.find_elements(By.CSS_SELECTOR, 'div.basicProductCardInformation_basic_product_card_information__7v_uc.basicProductCardInformation_view_type_grid2__mlh6E')\n",
    "    \n",
    "    for div in divs:\n",
    "        if not div.find_elements(By.CSS_SELECTOR, '.basicProductCardInformation_advertisement_area__HzaQ_'):\n",
    "            name = div.find_element(By.CSS_SELECTOR, 'strong.basicProductCardInformation_title__Bc_Ng').text\n",
    "            # 데이터 중복 체크\n",
    "            if name not in [x[1] for x in result]:\n",
    "                com = div.find_element(By.CSS_SELECTOR, 'span.basicProductCardInformation_mall_name__8IS3Q').text\n",
    "                price = int(div.find_element(By.CSS_SELECTOR, 'span.priceTag_inner_price__TctbK').text.split('\\n')[0].replace(',', ''))\n",
    "                link = div.find_element(By.CSS_SELECTOR,'a.basicProductCard_link__urzND._nlog_click._nlog_impression_element').get_attribute('href')\n",
    "                try:\n",
    "                    star = float(div.find_element(By.CSS_SELECTOR, 'span.productCardReview_star__7iHNO').text.split('\\n')[1])\n",
    "                    review = int(div.find_element(By.CSS_SELECTOR, 'span.productCardReview_text__A9N9N:not(.productCardReview_star__7iHNO)').text.split(' ')[1].replace(',', ''))\n",
    "                except:\n",
    "                    star, review = '', ''\n",
    "                result.append([com, name, price, star, review])\n",
    "\n",
    "df = pd.DataFrame(result, columns=['업체명','상품명','가격','링크','별점','리뷰 수'])\n",
    "df.to_excel('abc.xlsx')\n",
    "\n",
    "# driver.quit()"
   ]
  },
  {
   "cell_type": "code",
   "execution_count": null,
   "metadata": {},
   "outputs": [],
   "source": [
    "a.basicProductCard_link__urzND._nlog_click._nlog_impression_element"
   ]
  }
 ],
 "metadata": {
  "kernelspec": {
   "display_name": "Python 3",
   "language": "python",
   "name": "python3"
  },
  "language_info": {
   "codemirror_mode": {
    "name": "ipython",
    "version": 3
   },
   "file_extension": ".py",
   "mimetype": "text/x-python",
   "name": "python",
   "nbconvert_exporter": "python",
   "pygments_lexer": "ipython3",
   "version": "3.13.0"
  }
 },
 "nbformat": 4,
 "nbformat_minor": 2
}
